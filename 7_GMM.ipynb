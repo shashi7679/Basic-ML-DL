{
 "cells": [
  {
   "cell_type": "code",
   "execution_count": 6,
   "metadata": {},
   "outputs": [],
   "source": [
    "from numpy.linalg import eig\n",
    "import matplotlib.pyplot as plt\n",
    "from sklearn.datasets import make_spd_matrix\n",
    "import numpy as np"
   ]
  },
  {
   "cell_type": "code",
   "execution_count": 4,
   "metadata": {},
   "outputs": [],
   "source": [
    "plt.rcParams[\"axes.grid\"] = False"
   ]
  },
  {
   "cell_type": "code",
   "execution_count": 5,
   "metadata": {},
   "outputs": [],
   "source": [
    "n_samples = 0\n",
    "t_means = [[8.4,8.2],[1.4,1.6],[2.4,5.4],[6.4,2.4]]"
   ]
  },
  {
   "cell_type": "code",
   "execution_count": 12,
   "metadata": {},
   "outputs": [],
   "source": [
    "t_cons = []\n",
    "for s in range(len(t_means)):\n",
    "    t_cons.append(make_spd_matrix(2))\n",
    "\n",
    "X = []\n",
    "for mean,conv in zip(t_means,t_cons):\n",
    "    x = np.random.multivariate_normal(mean=mean, cov=conv,size=n_samples)\n",
    "    X += list(x)\n",
    "\n"
   ]
  },
  {
   "cell_type": "code",
   "execution_count": 11,
   "metadata": {},
   "outputs": [],
   "source": [
    "X = np.array(X)"
   ]
  },
  {
   "cell_type": "code",
   "execution_count": 10,
   "metadata": {},
   "outputs": [
    {
     "name": "stdout",
     "output_type": "stream",
     "text": [
      "Dataset Shape :  (0,)\n",
      "[]\n"
     ]
    }
   ],
   "source": [
    "np.random.shuffle(X)\n",
    "print(\"Dataset Shape : \",X.shape)\n",
    "print(X)"
   ]
  }
 ],
 "metadata": {
  "interpreter": {
   "hash": "1bb0b362f26668dab5e215d6d9db07ac82d94579e03c1f0d614a94e491cb2a73"
  },
  "kernelspec": {
   "display_name": "Python 3.9.7 64-bit",
   "name": "python3"
  },
  "language_info": {
   "codemirror_mode": {
    "name": "ipython",
    "version": 3
   },
   "file_extension": ".py",
   "mimetype": "text/x-python",
   "name": "python",
   "nbconvert_exporter": "python",
   "pygments_lexer": "ipython3",
   "version": "3.9.7"
  },
  "orig_nbformat": 4
 },
 "nbformat": 4,
 "nbformat_minor": 2
}
